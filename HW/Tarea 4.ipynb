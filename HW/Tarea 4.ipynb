{
 "cells": [
  {
   "cell_type": "markdown",
   "metadata": {},
   "source": [
    "## Hacer un mini videojuego de pokemon"
   ]
  },
  {
   "cell_type": "code",
   "execution_count": 1,
   "metadata": {},
   "outputs": [],
   "source": [
    "import numpy as np"
   ]
  },
  {
   "cell_type": "code",
   "execution_count": 33,
   "metadata": {},
   "outputs": [],
   "source": [
    "class pokemon:\n",
    "    def __init__(self, nombre, ataque, defensa, vida):\n",
    "        self.name=nombre\n",
    "        self.attack=ataque\n",
    "        self.defense=defensa\n",
    "        self.health=vida\n",
    "        \n",
    "    def atacar(self):\n",
    "        total_ataque=np.random.rand() * 10 * self.attack\n",
    "        return total_ataque\n",
    "    \n",
    "    def defender(self):\n",
    "        total_defensa=np.random.rand() * 10 * self.defense\n",
    "        return total_defensa\n",
    "    "
   ]
  },
  {
   "cell_type": "code",
   "execution_count": 44,
   "metadata": {},
   "outputs": [],
   "source": [
    "def batalla(poke1,poke2):\n",
    "    while poke1.health>0 and poke2.health>0:\n",
    "        atk1=poke1.atacar()\n",
    "        def2=poke2.defender()\n",
    "        vida2=poke2.health\n",
    "        vida_nueva=vida2-atk1+def2\n",
    "        if vida_nueva<vida2:\n",
    "            poke2.health=vida_nueva\n",
    "            \n",
    "        print(f'El ataque de {poke1.name} fue de {atk1}.')\n",
    "        print(f'La vida restante de {poke2.name} es de {poke2.health} hp.')\n",
    "        \n",
    "        if poke2.health <= 0:\n",
    "            break\n",
    "            \n",
    "        atk2=poke2.atacar()\n",
    "        def1=poke1.defender()\n",
    "        vida1=poke1.health\n",
    "        vida_nueva=vida1-atk2+def1\n",
    "        if vida_nueva<vida1:\n",
    "            poke1.health=vida_nueva\n",
    "            \n",
    "        print(f'El ataque de {poke2.name} fue de {atk2}.')\n",
    "        print(f'La vida restante de {poke1.name} es de {poke1.health} hp.')\n",
    "    \n",
    "    if poke1.health>0:\n",
    "        ganador=poke1.name\n",
    "        hp=poke1.health\n",
    "    else:\n",
    "        ganador=poke2.name\n",
    "        hp=poke2.health\n",
    "        \n",
    "    print(f'El ganador es: {ganador}, con {hp} puntos de vida restantes.')\n",
    "        \n",
    "        "
   ]
  },
  {
   "cell_type": "code",
   "execution_count": 45,
   "metadata": {},
   "outputs": [],
   "source": [
    "pikachu=pokemon('pikachu',100,100,100)\n",
    "arbok=pokemon('arbok',100,100,100)"
   ]
  },
  {
   "cell_type": "code",
   "execution_count": 46,
   "metadata": {},
   "outputs": [
    {
     "name": "stdout",
     "output_type": "stream",
     "text": [
      "El ataque de pikachu fue de 920.2381682740067.\n",
      "La vida restante de arbok es de 100 hp.\n",
      "El ataque de arbok fue de 322.8031056776058.\n",
      "La vida restante de pikachu es de 14.008893136357528 hp.\n",
      "El ataque de pikachu fue de 989.6456856775565.\n",
      "La vida restante de arbok es de -510.73613133926483 hp.\n",
      "El ganador es: pikachu, con 14.008893136357528 puntos de vida restantes.\n"
     ]
    }
   ],
   "source": [
    "batalla(pikachu,arbok)"
   ]
  }
 ],
 "metadata": {
  "kernelspec": {
   "display_name": "Python 3",
   "language": "python",
   "name": "python3"
  },
  "language_info": {
   "codemirror_mode": {
    "name": "ipython",
    "version": 3
   },
   "file_extension": ".py",
   "mimetype": "text/x-python",
   "name": "python",
   "nbconvert_exporter": "python",
   "pygments_lexer": "ipython3",
   "version": "3.7.4"
  }
 },
 "nbformat": 4,
 "nbformat_minor": 2
}
