{
 "cells": [
  {
   "cell_type": "markdown",
   "metadata": {},
   "source": [
    "# Python zero 2 hero básico: Tarea 2"
   ]
  },
  {
   "cell_type": "code",
   "execution_count": 1,
   "metadata": {},
   "outputs": [],
   "source": [
    "gato = ['Gato',500,8]\n",
    "perro = ['Perro',2000,9]\n",
    "hamster = ['Hamster',200,4]\n",
    "tarantula = ['Tarantula',500,2]"
   ]
  },
  {
   "cell_type": "code",
   "execution_count": 2,
   "metadata": {},
   "outputs": [],
   "source": [
    "catalogo = []\n",
    "catalogo.append(gato)\n",
    "catalogo.append(perro)\n",
    "catalogo.append(hamster)\n",
    "catalogo.append(tarantula)"
   ]
  },
  {
   "cell_type": "code",
   "execution_count": 3,
   "metadata": {},
   "outputs": [
    {
     "name": "stdout",
     "output_type": "stream",
     "text": [
      "BIENVENIDO A MI CATALOGO\n",
      "\n",
      "----------\n",
      "Nombre animal: Gato\n",
      "Costo: 500\n",
      "Diversion Niños: 8\n",
      "----------\n",
      "----------\n",
      "Nombre animal: Perro\n",
      "Costo: 2000\n",
      "Diversion Niños: 9\n",
      "----------\n",
      "----------\n",
      "Nombre animal: Hamster\n",
      "Costo: 200\n",
      "Diversion Niños: 4\n",
      "----------\n",
      "----------\n",
      "Nombre animal: Tarantula\n",
      "Costo: 500\n",
      "Diversion Niños: 2\n",
      "----------\n"
     ]
    }
   ],
   "source": [
    "print('BIENVENIDO A MI CATALOGO'+'\\n')\n",
    "for animal in catalogo:\n",
    "    nombre_animal = animal[0]\n",
    "    costo_animal = animal[1]\n",
    "    diversion_animal = animal[2]\n",
    "    \n",
    "    print('----------')\n",
    "    print('Nombre animal: '+ nombre_animal)\n",
    "    print('Costo: ' + str(costo_animal))\n",
    "    print('Diversion Niños: ' + str(diversion_animal))\n",
    "    print('----------')"
   ]
  },
  {
   "cell_type": "code",
   "execution_count": 18,
   "metadata": {},
   "outputs": [
    {
     "name": "stdout",
     "output_type": "stream",
     "text": [
      "Cual es su presupuesto? 100000\n",
      "Tiene niños? si\n",
      "Las opciones para su presupuesto\n",
      "\n",
      "----------\n",
      "Nombre animal: Gato\n",
      "Costo: 500\n",
      "Diversion Niños: 8\n",
      "----------\n",
      "----------\n",
      "Nombre animal: Perro\n",
      "Costo: 2000\n",
      "Diversion Niños: 9\n",
      "----------\n"
     ]
    }
   ],
   "source": [
    "presupuesto_cliente = input(\"Cual es su presupuesto? \")\n",
    "tiene_niños = input(\"Tiene niños? \")\n",
    "\n",
    "#muestren UNICAMENTE los animales que le alcanzan y si tiene niños, animales con calificacion mayor a 5\n",
    "animales_posibles=[]\n",
    "for animal in catalogo:\n",
    "    if tiene_niños==\"si\":\n",
    "        if (int(presupuesto_cliente)>=animal[1]) and (animal[2]>5):\n",
    "            animales_posibles.append(animal)\n",
    "    else:\n",
    "        if int(presupuesto_cliente)>=animal[1]:\n",
    "            animales_posibles.append(animal)\n",
    "\n",
    "print('Las opciones para su presupuesto'+'\\n')\n",
    "for a in animales_posibles:\n",
    "    nombre_animal = a[0]\n",
    "    costo_animal = a[1]\n",
    "    diversion_animal = a[2]\n",
    "    \n",
    "    print('----------')\n",
    "    print('Nombre animal: '+ nombre_animal)\n",
    "    print('Costo: ' + str(costo_animal))\n",
    "    print('Diversion Niños: ' + str(diversion_animal))\n",
    "    print('----------')"
   ]
  }
 ],
 "metadata": {
  "kernelspec": {
   "display_name": "Python 3",
   "language": "python",
   "name": "python3"
  },
  "language_info": {
   "codemirror_mode": {
    "name": "ipython",
    "version": 3
   },
   "file_extension": ".py",
   "mimetype": "text/x-python",
   "name": "python",
   "nbconvert_exporter": "python",
   "pygments_lexer": "ipython3",
   "version": "3.7.4"
  }
 },
 "nbformat": 4,
 "nbformat_minor": 2
}
