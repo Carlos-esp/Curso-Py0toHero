{
 "cells": [
  {
   "cell_type": "code",
   "execution_count": 3,
   "metadata": {},
   "outputs": [],
   "source": [
    "import pandas as pd\n",
    "import numpy as np\n",
    "import matplotlib.pyplot as plt\n",
    "import seaborn as sns"
   ]
  },
  {
   "cell_type": "code",
   "execution_count": 4,
   "metadata": {},
   "outputs": [],
   "source": [
    "voo=pd.read_csv('C:/Users/Carlo/Downloads/VOO.csv')\n",
    "vt=pd.read_csv('C:/Users/Carlo/Downloads/VT.csv')"
   ]
  },
  {
   "cell_type": "code",
   "execution_count": 5,
   "metadata": {},
   "outputs": [
    {
     "data": {
      "text/html": [
       "<div>\n",
       "<style scoped>\n",
       "    .dataframe tbody tr th:only-of-type {\n",
       "        vertical-align: middle;\n",
       "    }\n",
       "\n",
       "    .dataframe tbody tr th {\n",
       "        vertical-align: top;\n",
       "    }\n",
       "\n",
       "    .dataframe thead th {\n",
       "        text-align: right;\n",
       "    }\n",
       "</style>\n",
       "<table border=\"1\" class=\"dataframe\">\n",
       "  <thead>\n",
       "    <tr style=\"text-align: right;\">\n",
       "      <th></th>\n",
       "      <th>Date</th>\n",
       "      <th>Open</th>\n",
       "      <th>High</th>\n",
       "      <th>Low</th>\n",
       "      <th>Close</th>\n",
       "      <th>Adj Close</th>\n",
       "      <th>Volume</th>\n",
       "    </tr>\n",
       "  </thead>\n",
       "  <tbody>\n",
       "    <tr>\n",
       "      <td>0</td>\n",
       "      <td>2008-06-26</td>\n",
       "      <td>49.919998</td>\n",
       "      <td>49.990002</td>\n",
       "      <td>49.340000</td>\n",
       "      <td>49.580002</td>\n",
       "      <td>36.677372</td>\n",
       "      <td>15800</td>\n",
       "    </tr>\n",
       "    <tr>\n",
       "      <td>1</td>\n",
       "      <td>2008-06-27</td>\n",
       "      <td>51.450001</td>\n",
       "      <td>51.450001</td>\n",
       "      <td>49.259998</td>\n",
       "      <td>49.500000</td>\n",
       "      <td>36.618195</td>\n",
       "      <td>26800</td>\n",
       "    </tr>\n",
       "    <tr>\n",
       "      <td>2</td>\n",
       "      <td>2008-06-30</td>\n",
       "      <td>51.720001</td>\n",
       "      <td>51.720001</td>\n",
       "      <td>49.360001</td>\n",
       "      <td>49.540001</td>\n",
       "      <td>36.647789</td>\n",
       "      <td>23900</td>\n",
       "    </tr>\n",
       "    <tr>\n",
       "      <td>3</td>\n",
       "      <td>2008-07-01</td>\n",
       "      <td>49.130001</td>\n",
       "      <td>49.599998</td>\n",
       "      <td>47.740002</td>\n",
       "      <td>49.099998</td>\n",
       "      <td>36.322281</td>\n",
       "      <td>55100</td>\n",
       "    </tr>\n",
       "    <tr>\n",
       "      <td>4</td>\n",
       "      <td>2008-07-02</td>\n",
       "      <td>49.540001</td>\n",
       "      <td>49.689999</td>\n",
       "      <td>48.380001</td>\n",
       "      <td>48.380001</td>\n",
       "      <td>35.789646</td>\n",
       "      <td>74700</td>\n",
       "    </tr>\n",
       "  </tbody>\n",
       "</table>\n",
       "</div>"
      ],
      "text/plain": [
       "         Date       Open       High        Low      Close  Adj Close  Volume\n",
       "0  2008-06-26  49.919998  49.990002  49.340000  49.580002  36.677372   15800\n",
       "1  2008-06-27  51.450001  51.450001  49.259998  49.500000  36.618195   26800\n",
       "2  2008-06-30  51.720001  51.720001  49.360001  49.540001  36.647789   23900\n",
       "3  2008-07-01  49.130001  49.599998  47.740002  49.099998  36.322281   55100\n",
       "4  2008-07-02  49.540001  49.689999  48.380001  48.380001  35.789646   74700"
      ]
     },
     "execution_count": 5,
     "metadata": {},
     "output_type": "execute_result"
    }
   ],
   "source": [
    "vt.head()"
   ]
  },
  {
   "cell_type": "code",
   "execution_count": 6,
   "metadata": {},
   "outputs": [
    {
     "data": {
      "text/html": [
       "<div>\n",
       "<style scoped>\n",
       "    .dataframe tbody tr th:only-of-type {\n",
       "        vertical-align: middle;\n",
       "    }\n",
       "\n",
       "    .dataframe tbody tr th {\n",
       "        vertical-align: top;\n",
       "    }\n",
       "\n",
       "    .dataframe thead th {\n",
       "        text-align: right;\n",
       "    }\n",
       "</style>\n",
       "<table border=\"1\" class=\"dataframe\">\n",
       "  <thead>\n",
       "    <tr style=\"text-align: right;\">\n",
       "      <th></th>\n",
       "      <th>Date</th>\n",
       "      <th>Open</th>\n",
       "      <th>High</th>\n",
       "      <th>Low</th>\n",
       "      <th>Close</th>\n",
       "      <th>Adj Close</th>\n",
       "      <th>Volume</th>\n",
       "    </tr>\n",
       "  </thead>\n",
       "  <tbody>\n",
       "    <tr>\n",
       "      <td>0</td>\n",
       "      <td>2010-09-09</td>\n",
       "      <td>102.500000</td>\n",
       "      <td>102.500000</td>\n",
       "      <td>101.139999</td>\n",
       "      <td>101.320000</td>\n",
       "      <td>80.746857</td>\n",
       "      <td>26500</td>\n",
       "    </tr>\n",
       "    <tr>\n",
       "      <td>1</td>\n",
       "      <td>2010-09-10</td>\n",
       "      <td>101.680000</td>\n",
       "      <td>101.860001</td>\n",
       "      <td>101.300003</td>\n",
       "      <td>101.779999</td>\n",
       "      <td>81.113426</td>\n",
       "      <td>8600</td>\n",
       "    </tr>\n",
       "    <tr>\n",
       "      <td>2</td>\n",
       "      <td>2010-09-13</td>\n",
       "      <td>102.959999</td>\n",
       "      <td>103.139999</td>\n",
       "      <td>102.500000</td>\n",
       "      <td>103.059998</td>\n",
       "      <td>82.133553</td>\n",
       "      <td>33750</td>\n",
       "    </tr>\n",
       "    <tr>\n",
       "      <td>3</td>\n",
       "      <td>2010-09-14</td>\n",
       "      <td>102.839996</td>\n",
       "      <td>103.480003</td>\n",
       "      <td>102.379997</td>\n",
       "      <td>103.040001</td>\n",
       "      <td>82.117630</td>\n",
       "      <td>59400</td>\n",
       "    </tr>\n",
       "    <tr>\n",
       "      <td>4</td>\n",
       "      <td>2010-09-15</td>\n",
       "      <td>102.620003</td>\n",
       "      <td>103.379997</td>\n",
       "      <td>102.400002</td>\n",
       "      <td>103.300003</td>\n",
       "      <td>82.324837</td>\n",
       "      <td>9250</td>\n",
       "    </tr>\n",
       "  </tbody>\n",
       "</table>\n",
       "</div>"
      ],
      "text/plain": [
       "         Date        Open        High         Low       Close  Adj Close  \\\n",
       "0  2010-09-09  102.500000  102.500000  101.139999  101.320000  80.746857   \n",
       "1  2010-09-10  101.680000  101.860001  101.300003  101.779999  81.113426   \n",
       "2  2010-09-13  102.959999  103.139999  102.500000  103.059998  82.133553   \n",
       "3  2010-09-14  102.839996  103.480003  102.379997  103.040001  82.117630   \n",
       "4  2010-09-15  102.620003  103.379997  102.400002  103.300003  82.324837   \n",
       "\n",
       "   Volume  \n",
       "0   26500  \n",
       "1    8600  \n",
       "2   33750  \n",
       "3   59400  \n",
       "4    9250  "
      ]
     },
     "execution_count": 6,
     "metadata": {},
     "output_type": "execute_result"
    }
   ],
   "source": [
    "voo.head()"
   ]
  },
  {
   "cell_type": "code",
   "execution_count": 10,
   "metadata": {},
   "outputs": [
    {
     "data": {
      "text/plain": [
       "(3022, 7)"
      ]
     },
     "execution_count": 10,
     "metadata": {},
     "output_type": "execute_result"
    }
   ],
   "source": [
    "voo.shape"
   ]
  },
  {
   "cell_type": "code",
   "execution_count": 12,
   "metadata": {},
   "outputs": [
    {
     "data": {
      "text/plain": [
       "(3577, 7)"
      ]
     },
     "execution_count": 12,
     "metadata": {},
     "output_type": "execute_result"
    }
   ],
   "source": [
    "vt.shape"
   ]
  },
  {
   "cell_type": "code",
   "execution_count": 16,
   "metadata": {},
   "outputs": [
    {
     "data": {
      "text/plain": [
       "Date         datetime64[ns]\n",
       "Open                float64\n",
       "High                float64\n",
       "Low                 float64\n",
       "Close               float64\n",
       "Adj Close           float64\n",
       "Volume                int64\n",
       "dtype: object"
      ]
     },
     "execution_count": 16,
     "metadata": {},
     "output_type": "execute_result"
    }
   ],
   "source": [
    "vt['Date']=pd.to_datetime(vt['Date'])\n",
    "vt.dtypes"
   ]
  },
  {
   "cell_type": "code",
   "execution_count": 17,
   "metadata": {},
   "outputs": [
    {
     "data": {
      "text/plain": [
       "Date         datetime64[ns]\n",
       "Open                float64\n",
       "High                float64\n",
       "Low                 float64\n",
       "Close               float64\n",
       "Adj Close           float64\n",
       "Volume                int64\n",
       "dtype: object"
      ]
     },
     "execution_count": 17,
     "metadata": {},
     "output_type": "execute_result"
    }
   ],
   "source": [
    "voo['Date']=pd.to_datetime(voo['Date'])\n",
    "voo.dtypes"
   ]
  },
  {
   "cell_type": "code",
   "execution_count": 27,
   "metadata": {},
   "outputs": [
    {
     "name": "stdout",
     "output_type": "stream",
     "text": [
      "930\n",
      "930\n"
     ]
    }
   ],
   "source": [
    "print(len(vt[vt['Date']>'01/01/2019']))\n",
    "print(len(voo[voo['Date']>'01/01/2019']))"
   ]
  },
  {
   "cell_type": "code",
   "execution_count": 31,
   "metadata": {},
   "outputs": [],
   "source": [
    "vt_19=vt[vt.Date>'01/01/2011']\n",
    "voo_19=voo[voo.Date>'01/01/2011']"
   ]
  },
  {
   "cell_type": "code",
   "execution_count": 32,
   "metadata": {},
   "outputs": [
    {
     "data": {
      "text/plain": [
       "array([[1.      , 0.988531],\n",
       "       [0.988531, 1.      ]])"
      ]
     },
     "execution_count": 32,
     "metadata": {},
     "output_type": "execute_result"
    }
   ],
   "source": [
    "np.corrcoef(vt_19.Close,voo_19.Close)"
   ]
  },
  {
   "cell_type": "code",
   "execution_count": 43,
   "metadata": {},
   "outputs": [
    {
     "data": {
      "image/png": "[encoded data removed]",
      "text/plain": [
       "<Figure size 432x288 with 1 Axes>"
      ]
     },
     "metadata": {
      "needs_background": "light"
     },
     "output_type": "display_data"
    }
   ],
   "source": [
    "plt.figure()\n",
    "\n",
    "plt.suptitle(\"VT vs VOO\",fontsize=14, weight='bold')\n",
    "plt.title(\"2011-2022\")\n",
    "sns.lineplot(y='Close',x='Date',data=vt_19,label=\"Vt\")\n",
    "sns.lineplot(y='Close',x='Date',data=voo_19,label=\"Voo\")\n",
    "plt.legend()\n",
    "\n",
    "plt.show()"
   ]
  }
 ],
 "metadata": {
  "kernelspec": {
   "display_name": "Python 3",
   "language": "python",
   "name": "python3"
  },
  "language_info": {
   "codemirror_mode": {
    "name": "ipython",
    "version": 3
   },
   "file_extension": ".py",
   "mimetype": "text/x-python",
   "name": "python",
   "nbconvert_exporter": "python",
   "pygments_lexer": "ipython3",
   "version": "3.7.4"
  }
 },
 "nbformat": 4,
 "nbformat_minor": 2
}
